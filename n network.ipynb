{
 "cells": [
  {
   "cell_type": "code",
   "execution_count": 1,
   "id": "728c54be-acef-47f2-bde3-3b4885fbdbbe",
   "metadata": {
    "tags": []
   },
   "outputs": [],
   "source": [
    "import numpy as np\n",
    "import torch\n",
    "import pandas as pd\n",
    "from torch import nn\n",
    "from torch.utils.data import Dataset, DataLoader"
   ]
  },
  {
   "cell_type": "code",
   "execution_count": 15,
   "id": "9870a879-db58-4744-9dbb-c7fbbd2c0e16",
   "metadata": {
    "tags": []
   },
   "outputs": [],
   "source": [
    "class CustomDataset(Dataset):\n",
    "    def __init__(self, analyze_ticks, result_ticks, max_ticks):\n",
    "        self.data_path = \"testingData.csv\"\n",
    "        self.data = []\n",
    "        df = pd.read_csv(self.data_path, encoding='utf-16', delimiter=\";\", header=None)\n",
    "        ticksArray = np.array(df.values)\n",
    "        if max_ticks>ticksArray.shape[0]:\n",
    "            max_ticks=ticksArray.shape[0]\n",
    "        # max_sum = 0;\n",
    "        for idx in np.arange(analyze_ticks-1, max_ticks-result_ticks-1):\n",
    "            \n",
    "            analyze_set = np.array([])\n",
    "            for i in np.arange(analyze_ticks-1, 0, -1):\n",
    "                analyze_set = np.append(analyze_set, ticksArray[idx-i], 0)\n",
    "            result_sum = 0\n",
    "            for i in np.arange(result_ticks):\n",
    "                result_sum+=ticksArray[idx+i+1][1]\n",
    "            # if abs(result_sum)>max_sum:\n",
    "            #     max_sum=abs(result_sum)\n",
    "            \n",
    "            if(abs(result_sum)>20):\n",
    "                self.data.append([analyze_set, result_sum])\n",
    "            elif np.random.rand()<0.1:\n",
    "                self.data.append([analyze_set, result_sum])\n",
    "            # self.data.append([analyze_set, result_sum])\n",
    "            \n",
    "        # print(max_sum)\n",
    "    def __len__(self):\n",
    "        return len(self.data)\n",
    "    def __getitem__(self, idx):\n",
    "        analyze_set, result_sum = self.data[idx]\n",
    "        analyze_tensor = torch.from_numpy(analyze_set).to(torch.float32)\n",
    "        result_tensor = torch.tensor([result_sum]).to(torch.float32)\n",
    "        return analyze_tensor, result_tensor"
   ]
  },
  {
   "cell_type": "code",
   "execution_count": 16,
   "id": "fba3e3ea-7544-45fb-b4dd-3823732da4eb",
   "metadata": {
    "tags": []
   },
   "outputs": [],
   "source": [
    "dataset = CustomDataset(51,20,60000)\n",
    "\n",
    "batch_size0 = 10\n",
    "\n",
    "train_dataloader = DataLoader(dataset, batch_size=batch_size0, shuffle=True)\n",
    "test_dataloader = DataLoader(dataset, batch_size=batch_size0, shuffle=True)\n"
   ]
  },
  {
   "cell_type": "code",
   "execution_count": 4,
   "id": "1e82a98b-ede3-4b6d-b49d-ef88ebca612f",
   "metadata": {
    "tags": []
   },
   "outputs": [],
   "source": [
    "class NeuralNetwork(nn.Module):\n",
    "    def __init__(self):\n",
    "        super().__init__()\n",
    "        self.flatten = nn.Flatten()\n",
    "        self.linear_relu_stack = nn.Sequential(\n",
    "            nn.Linear(100, 50),\n",
    "            nn.ReLU(),\n",
    "            nn.Linear(50, 50),\n",
    "            nn.ReLU(),\n",
    "            nn.Linear(50, 1),\n",
    "        )\n",
    "        # print(self.linear_relu_stack[0].weight.dtype)\n",
    "\n",
    "    def forward(self, x):\n",
    "        x = self.flatten(x)\n",
    "        logits = self.linear_relu_stack(x)\n",
    "        return logits"
   ]
  },
  {
   "cell_type": "code",
   "execution_count": 279,
   "id": "385794db-4d59-4a3a-8c8f-81a6189cc2a8",
   "metadata": {},
   "outputs": [
    {
     "name": "stdout",
     "output_type": "stream",
     "text": [
      "NeuralNetwork(\n",
      "  (flatten): Flatten(start_dim=1, end_dim=-1)\n",
      "  (linear_relu_stack): Sequential(\n",
      "    (0): Linear(in_features=100, out_features=50, bias=True)\n",
      "    (1): ReLU()\n",
      "    (2): Linear(in_features=50, out_features=50, bias=True)\n",
      "    (3): ReLU()\n",
      "    (4): Linear(in_features=50, out_features=1, bias=True)\n",
      "  )\n",
      ")\n"
     ]
    }
   ],
   "source": [
    "model = NeuralNetwork()\n",
    "print(model)"
   ]
  },
  {
   "cell_type": "code",
   "execution_count": 11,
   "id": "da0669d2-af1f-4417-99d2-52ee115c789b",
   "metadata": {
    "tags": []
   },
   "outputs": [],
   "source": [
    "learning_rate = 1e-3\n"
   ]
  },
  {
   "cell_type": "code",
   "execution_count": 8,
   "id": "d5f4b72a-7d21-4d53-a8b7-bc47dbfffa57",
   "metadata": {
    "tags": []
   },
   "outputs": [],
   "source": [
    "def train_loop(dataloader, model, loss_fn, optimizer, log):\n",
    "    size = len(dataloader.dataset)\n",
    "    one_time = True\n",
    "    for batch, (X, y) in enumerate(dataloader):\n",
    "        \n",
    "        # Compute prediction and loss\n",
    "        pred = model(X)\n",
    "        if one_time:\n",
    "            one_time= False\n",
    "            # print(pred)\n",
    "        loss = loss_fn(pred, y)\n",
    "\n",
    "        # Backpropagation\n",
    "        optimizer.zero_grad()\n",
    "        loss.backward()\n",
    "        optimizer.step()\n",
    "\n",
    "        if batch % 100 == 0 and log:\n",
    "            loss, current = loss.item(), (batch + 1) * len(X)\n",
    "            print(f\"loss: {loss:>7f}  [{current:>5d}/{size:>5d}]\")\n",
    "\n",
    "\n",
    "def test_loop(dataloader, model, loss_fn, accuracy, log):\n",
    "    # size = len(dataloader.dataset)\n",
    "    size = 0\n",
    "    num_batches = len(dataloader)\n",
    "    test_loss, correct = 0, 0\n",
    "\n",
    "    with torch.no_grad():\n",
    "        for X, y in dataloader:\n",
    "            pred = model(X)\n",
    "            test_loss += loss_fn(pred, y).item()\n",
    "            \n",
    "            for idx in range(pred.shape[0]):\n",
    "                if abs(pred[idx][0])>20:\n",
    "                    size +=1\n",
    "                    if(pred[idx][0]+accuracy>=y[idx][0] and pred[idx][0]-accuracy<=y[idx][0]):\n",
    "                        correct += 1\n",
    "\n",
    "    test_loss /= num_batches\n",
    "    correct /= size\n",
    "    if log:\n",
    "        print(f\"Test Error: \\n Accuracy: {(100*correct):>0.1f}%, Avg loss: {test_loss:>8f} \\n\")"
   ]
  },
  {
   "cell_type": "code",
   "execution_count": 12,
   "id": "d6691c7b-e5ed-4347-b925-e2bacc145bcd",
   "metadata": {
    "tags": []
   },
   "outputs": [],
   "source": [
    "loss_fn = nn.MSELoss()\n",
    "optimizer = torch.optim.Adam(model.parameters(), lr=learning_rate)"
   ]
  },
  {
   "cell_type": "code",
   "execution_count": 17,
   "id": "6440daf9-c889-442d-a455-9cc227a6a926",
   "metadata": {
    "tags": []
   },
   "outputs": [
    {
     "name": "stdout",
     "output_type": "stream",
     "text": [
      "Epoch 50\n",
      "-------------------------------\n",
      "loss: 70.629166  [   10/ 6841]\n",
      "loss: 99.193222  [ 1010/ 6841]\n",
      "loss: 90.789291  [ 2010/ 6841]\n",
      "loss: 64.358849  [ 3010/ 6841]\n",
      "loss: 256.345795  [ 4010/ 6841]\n",
      "loss: 44.826057  [ 5010/ 6841]\n",
      "loss: 37.815662  [ 6010/ 6841]\n",
      "Test Error: \n",
      " Accuracy: 28.1%, Avg loss: 81.431225 \n",
      "\n",
      "Epoch 100\n",
      "-------------------------------\n",
      "loss: 192.329636  [   10/ 6841]\n",
      "loss: 27.040537  [ 1010/ 6841]\n",
      "loss: 181.426376  [ 2010/ 6841]\n",
      "loss: 96.111893  [ 3010/ 6841]\n",
      "loss: 45.298332  [ 4010/ 6841]\n",
      "loss: 49.139008  [ 5010/ 6841]\n",
      "loss: 5.637322  [ 6010/ 6841]\n",
      "Test Error: \n",
      " Accuracy: 37.6%, Avg loss: 70.368309 \n",
      "\n",
      "Epoch 150\n",
      "-------------------------------\n",
      "loss: 34.033173  [   10/ 6841]\n",
      "loss: 502.091461  [ 1010/ 6841]\n",
      "loss: 100.951790  [ 2010/ 6841]\n",
      "loss: 28.320698  [ 3010/ 6841]\n",
      "loss: 115.768860  [ 4010/ 6841]\n",
      "loss: 39.956039  [ 5010/ 6841]\n",
      "loss: 41.150547  [ 6010/ 6841]\n",
      "Test Error: \n",
      " Accuracy: 30.0%, Avg loss: 74.545259 \n",
      "\n",
      "Epoch 200\n",
      "-------------------------------\n",
      "loss: 53.244251  [   10/ 6841]\n",
      "loss: 67.683472  [ 1010/ 6841]\n",
      "loss: 165.428436  [ 2010/ 6841]\n",
      "loss: 60.056236  [ 3010/ 6841]\n",
      "loss: 125.777565  [ 4010/ 6841]\n",
      "loss: 52.938873  [ 5010/ 6841]\n",
      "loss: 124.249123  [ 6010/ 6841]\n",
      "Test Error: \n",
      " Accuracy: 43.2%, Avg loss: 64.839719 \n",
      "\n",
      "Epoch 250\n",
      "-------------------------------\n",
      "loss: 59.630573  [   10/ 6841]\n",
      "loss: 39.339928  [ 1010/ 6841]\n",
      "loss: 39.531441  [ 2010/ 6841]\n",
      "loss: 122.179688  [ 3010/ 6841]\n",
      "loss: 38.492943  [ 4010/ 6841]\n",
      "loss: 38.948330  [ 5010/ 6841]\n",
      "loss: 138.102692  [ 6010/ 6841]\n",
      "Test Error: \n",
      " Accuracy: 35.6%, Avg loss: 63.409241 \n",
      "\n",
      "Epoch 300\n",
      "-------------------------------\n",
      "loss: 50.465889  [   10/ 6841]\n",
      "loss: 40.469707  [ 1010/ 6841]\n",
      "loss: 201.532684  [ 2010/ 6841]\n",
      "loss: 44.467178  [ 3010/ 6841]\n",
      "loss: 63.751717  [ 4010/ 6841]\n",
      "loss: 29.929768  [ 5010/ 6841]\n",
      "loss: 26.718866  [ 6010/ 6841]\n",
      "Test Error: \n",
      " Accuracy: 38.0%, Avg loss: 64.644658 \n",
      "\n",
      "Epoch 350\n",
      "-------------------------------\n",
      "loss: 14.650681  [   10/ 6841]\n",
      "loss: 14.881373  [ 1010/ 6841]\n",
      "loss: 76.862114  [ 2010/ 6841]\n",
      "loss: 83.212204  [ 3010/ 6841]\n",
      "loss: 11.788183  [ 4010/ 6841]\n",
      "loss: 112.426064  [ 5010/ 6841]\n",
      "loss: 37.612541  [ 6010/ 6841]\n",
      "Test Error: \n",
      " Accuracy: 32.3%, Avg loss: 67.464393 \n",
      "\n",
      "Epoch 400\n",
      "-------------------------------\n",
      "loss: 69.914314  [   10/ 6841]\n",
      "loss: 93.117569  [ 1010/ 6841]\n",
      "loss: 45.410709  [ 2010/ 6841]\n",
      "loss: 43.468452  [ 3010/ 6841]\n",
      "loss: 23.264290  [ 4010/ 6841]\n",
      "loss: 76.200729  [ 5010/ 6841]\n",
      "loss: 41.695343  [ 6010/ 6841]\n",
      "Test Error: \n",
      " Accuracy: 46.4%, Avg loss: 58.773943 \n",
      "\n",
      "Epoch 450\n",
      "-------------------------------\n",
      "loss: 40.537655  [   10/ 6841]\n",
      "loss: 33.349964  [ 1010/ 6841]\n",
      "loss: 77.004883  [ 2010/ 6841]\n",
      "loss: 118.492020  [ 3010/ 6841]\n",
      "loss: 91.789749  [ 4010/ 6841]\n",
      "loss: 87.775002  [ 5010/ 6841]\n",
      "loss: 80.812332  [ 6010/ 6841]\n",
      "Test Error: \n",
      " Accuracy: 45.8%, Avg loss: 58.151980 \n",
      "\n",
      "Epoch 500\n",
      "-------------------------------\n",
      "loss: 107.271950  [   10/ 6841]\n",
      "loss: 72.844765  [ 1010/ 6841]\n",
      "loss: 58.652229  [ 2010/ 6841]\n",
      "loss: 56.990120  [ 3010/ 6841]\n",
      "loss: 47.607967  [ 4010/ 6841]\n",
      "loss: 26.291046  [ 5010/ 6841]\n",
      "loss: 37.876640  [ 6010/ 6841]\n",
      "Test Error: \n",
      " Accuracy: 34.8%, Avg loss: 63.405920 \n",
      "\n",
      "Done!\n"
     ]
    }
   ],
   "source": [
    "\n",
    "\n",
    "epochs = 500\n",
    "for t in range(epochs):\n",
    "    log = False\n",
    "    if (t+1)%50==0:\n",
    "        log = True\n",
    "        print(f\"Epoch {t+1}\\n-------------------------------\")\n",
    "    train_loop(train_dataloader, model, loss_fn, optimizer, log)\n",
    "    test_loop(test_dataloader, model, loss_fn, 3, log)\n",
    "print(\"Done!\")"
   ]
  },
  {
   "cell_type": "code",
   "execution_count": 18,
   "id": "60726ca9-8a1d-4544-a275-b7d4a10088fc",
   "metadata": {
    "tags": []
   },
   "outputs": [],
   "source": [
    "torch.save(model.state_dict(), \"model 51 20 v2 perc12\")"
   ]
  },
  {
   "cell_type": "code",
   "execution_count": 306,
   "id": "16346a49-1c1b-4f49-8b25-64331d692905",
   "metadata": {},
   "outputs": [
    {
     "data": {
      "text/plain": [
       "NeuralNetwork(\n",
       "  (flatten): Flatten(start_dim=1, end_dim=-1)\n",
       "  (linear_relu_stack): Sequential(\n",
       "    (0): Linear(in_features=100, out_features=50, bias=True)\n",
       "    (1): ReLU()\n",
       "    (2): Linear(in_features=50, out_features=50, bias=True)\n",
       "    (3): ReLU()\n",
       "    (4): Linear(in_features=50, out_features=1, bias=True)\n",
       "  )\n",
       ")"
      ]
     },
     "execution_count": 306,
     "metadata": {},
     "output_type": "execute_result"
    }
   ],
   "source": [
    "torch.load(\"model 51 20\")"
   ]
  },
  {
   "cell_type": "code",
   "execution_count": 6,
   "id": "815f374a-daeb-497f-aa4a-09d7e216e668",
   "metadata": {
    "tags": []
   },
   "outputs": [
    {
     "data": {
      "text/plain": [
       "NeuralNetwork(\n",
       "  (flatten): Flatten(start_dim=1, end_dim=-1)\n",
       "  (linear_relu_stack): Sequential(\n",
       "    (0): Linear(in_features=100, out_features=50, bias=True)\n",
       "    (1): ReLU()\n",
       "    (2): Linear(in_features=50, out_features=50, bias=True)\n",
       "    (3): ReLU()\n",
       "    (4): Linear(in_features=50, out_features=1, bias=True)\n",
       "  )\n",
       ")"
      ]
     },
     "execution_count": 6,
     "metadata": {},
     "output_type": "execute_result"
    }
   ],
   "source": [
    "model = NeuralNetwork()\n",
    "model.load_state_dict(torch.load(\"model 51 20\"))\n",
    "model.eval()"
   ]
  },
  {
   "cell_type": "code",
   "execution_count": 14,
   "id": "da179e93-5075-440c-97d2-880e441cf729",
   "metadata": {
    "tags": []
   },
   "outputs": [
    {
     "name": "stdout",
     "output_type": "stream",
     "text": [
      "Epoch 1\n",
      "-------------------------------\n",
      "Test Error: \n",
      " Accuracy: 2.0%, Avg loss: 2344.025424 \n",
      "\n",
      "Epoch 2\n",
      "-------------------------------\n",
      "Test Error: \n",
      " Accuracy: 2.0%, Avg loss: 2341.977581 \n",
      "\n",
      "Epoch 3\n",
      "-------------------------------\n",
      "Test Error: \n",
      " Accuracy: 2.0%, Avg loss: 2342.015881 \n",
      "\n",
      "Epoch 4\n",
      "-------------------------------\n",
      "Test Error: \n",
      " Accuracy: 2.0%, Avg loss: 2341.980488 \n",
      "\n",
      "Epoch 5\n",
      "-------------------------------\n",
      "Test Error: \n",
      " Accuracy: 2.0%, Avg loss: 2342.068672 \n",
      "\n",
      "Epoch 6\n",
      "-------------------------------\n",
      "Test Error: \n",
      " Accuracy: 2.0%, Avg loss: 2341.973897 \n",
      "\n",
      "Epoch 7\n",
      "-------------------------------\n",
      "Test Error: \n",
      " Accuracy: 2.0%, Avg loss: 2341.983285 \n",
      "\n",
      "Epoch 8\n",
      "-------------------------------\n",
      "Test Error: \n",
      " Accuracy: 2.0%, Avg loss: 2342.107387 \n",
      "\n",
      "Epoch 9\n",
      "-------------------------------\n",
      "Test Error: \n",
      " Accuracy: 2.0%, Avg loss: 2341.960891 \n",
      "\n",
      "Epoch 10\n",
      "-------------------------------\n",
      "Test Error: \n",
      " Accuracy: 2.0%, Avg loss: 2341.968734 \n",
      "\n"
     ]
    }
   ],
   "source": [
    "epochs=10\n",
    "for t in range(epochs):\n",
    "    print(f\"Epoch {t+1}\\n-------------------------------\")\n",
    "    test_loop(test_dataloader, model, loss_fn, 3, True)"
   ]
  },
  {
   "cell_type": "code",
   "execution_count": null,
   "id": "8e915e09-4970-4c7f-89ce-5247dbff46a8",
   "metadata": {},
   "outputs": [],
   "source": []
  }
 ],
 "metadata": {
  "kernelspec": {
   "display_name": "Python 3 (ipykernel)",
   "language": "python",
   "name": "python3"
  },
  "language_info": {
   "codemirror_mode": {
    "name": "ipython",
    "version": 3
   },
   "file_extension": ".py",
   "mimetype": "text/x-python",
   "name": "python",
   "nbconvert_exporter": "python",
   "pygments_lexer": "ipython3",
   "version": "3.9.6"
  }
 },
 "nbformat": 4,
 "nbformat_minor": 5
}
