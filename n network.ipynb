{
 "cells": [
  {
   "cell_type": "code",
   "execution_count": 5,
   "id": "728c54be-acef-47f2-bde3-3b4885fbdbbe",
   "metadata": {},
   "outputs": [],
   "source": [
    "import numpy as np\n",
    "import torch\n",
    "import pandas as pd\n",
    "from torch import nn\n",
    "from torch.utils.data import Dataset, DataLoader"
   ]
  },
  {
   "cell_type": "code",
   "execution_count": 248,
   "id": "9870a879-db58-4744-9dbb-c7fbbd2c0e16",
   "metadata": {},
   "outputs": [],
   "source": [
    "class CustomDataset(Dataset):\n",
    "    def __init__(self, analyze_ticks, result_ticks, max_ticks):\n",
    "        self.data_path = \"testingData.csv\"\n",
    "        self.data = []\n",
    "        df = pd.read_csv(self.data_path, encoding='utf-16', delimiter=\";\", header=None)\n",
    "        ticksArray = np.array(df.values)\n",
    "        if max_ticks>ticksArray.shape[0]:\n",
    "            max_ticks=ticksArray.shape[0]\n",
    "        # max_sum = 0;\n",
    "        for idx in np.arange(analyze_ticks-1, max_ticks-result_ticks-1):\n",
    "            \n",
    "            analyze_set = np.array([])\n",
    "            for i in np.arange(analyze_ticks-1, 0, -1):\n",
    "                analyze_set = np.append(analyze_set, ticksArray[idx-i], 0)\n",
    "            result_sum = 0\n",
    "            for i in np.arange(result_ticks):\n",
    "                result_sum+=ticksArray[idx+i+1][1]\n",
    "            # if abs(result_sum)>max_sum:\n",
    "            #     max_sum=abs(result_sum)\n",
    "            \n",
    "            if(abs(result_sum)>20):\n",
    "                self.data.append([analyze_set, result_sum])\n",
    "            elif np.random.rand()<0.01:\n",
    "                self.data.append([analyze_set, result_sum])\n",
    "            \n",
    "            \n",
    "        # print(max_sum)\n",
    "    def __len__(self):\n",
    "        return len(self.data)\n",
    "    def __getitem__(self, idx):\n",
    "        analyze_set, result_sum = self.data[idx]\n",
    "        analyze_tensor = torch.from_numpy(analyze_set).to(torch.float32)\n",
    "        result_tensor = torch.tensor([result_sum]).to(torch.float32)\n",
    "        return analyze_tensor, result_tensor"
   ]
  },
  {
   "cell_type": "code",
   "execution_count": 259,
   "id": "fba3e3ea-7544-45fb-b4dd-3823732da4eb",
   "metadata": {},
   "outputs": [],
   "source": [
    "dataset = CustomDataset(51,20,60000)\n",
    "\n",
    "batch_size0 = 10\n",
    "\n",
    "train_dataloader = DataLoader(dataset, batch_size=batch_size0, shuffle=True)\n",
    "test_dataloader = DataLoader(dataset, batch_size=batch_size0, shuffle=True)\n"
   ]
  },
  {
   "cell_type": "code",
   "execution_count": 260,
   "id": "1e82a98b-ede3-4b6d-b49d-ef88ebca612f",
   "metadata": {},
   "outputs": [],
   "source": [
    "class NeuralNetwork(nn.Module):\n",
    "    def __init__(self):\n",
    "        super().__init__()\n",
    "        self.flatten = nn.Flatten()\n",
    "        self.linear_relu_stack = nn.Sequential(\n",
    "            nn.Linear(100, 50),\n",
    "            nn.ReLU(),\n",
    "            nn.Linear(50, 50),\n",
    "            nn.ReLU(),\n",
    "            nn.Linear(50, 1),\n",
    "        )\n",
    "        # print(self.linear_relu_stack[0].weight.dtype)\n",
    "\n",
    "    def forward(self, x):\n",
    "        x = self.flatten(x)\n",
    "        logits = self.linear_relu_stack(x)\n",
    "        return logits"
   ]
  },
  {
   "cell_type": "code",
   "execution_count": 279,
   "id": "385794db-4d59-4a3a-8c8f-81a6189cc2a8",
   "metadata": {},
   "outputs": [
    {
     "name": "stdout",
     "output_type": "stream",
     "text": [
      "NeuralNetwork(\n",
      "  (flatten): Flatten(start_dim=1, end_dim=-1)\n",
      "  (linear_relu_stack): Sequential(\n",
      "    (0): Linear(in_features=100, out_features=50, bias=True)\n",
      "    (1): ReLU()\n",
      "    (2): Linear(in_features=50, out_features=50, bias=True)\n",
      "    (3): ReLU()\n",
      "    (4): Linear(in_features=50, out_features=1, bias=True)\n",
      "  )\n",
      ")\n"
     ]
    }
   ],
   "source": [
    "model = NeuralNetwork()\n",
    "print(model)"
   ]
  },
  {
   "cell_type": "code",
   "execution_count": 298,
   "id": "da0669d2-af1f-4417-99d2-52ee115c789b",
   "metadata": {},
   "outputs": [],
   "source": [
    "learning_rate = 1e-3\n"
   ]
  },
  {
   "cell_type": "code",
   "execution_count": 299,
   "id": "d5f4b72a-7d21-4d53-a8b7-bc47dbfffa57",
   "metadata": {},
   "outputs": [],
   "source": [
    "def train_loop(dataloader, model, loss_fn, optimizer, log):\n",
    "    size = len(dataloader.dataset)\n",
    "    one_time = True\n",
    "    for batch, (X, y) in enumerate(dataloader):\n",
    "        \n",
    "        # Compute prediction and loss\n",
    "        pred = model(X)\n",
    "        if one_time:\n",
    "            one_time= False\n",
    "            # print(pred)\n",
    "        loss = loss_fn(pred, y)\n",
    "\n",
    "        # Backpropagation\n",
    "        optimizer.zero_grad()\n",
    "        loss.backward()\n",
    "        optimizer.step()\n",
    "\n",
    "        if batch % 100 == 0 and log:\n",
    "            loss, current = loss.item(), (batch + 1) * len(X)\n",
    "            print(f\"loss: {loss:>7f}  [{current:>5d}/{size:>5d}]\")\n",
    "\n",
    "\n",
    "def test_loop(dataloader, model, loss_fn, accuracy, log):\n",
    "    # size = len(dataloader.dataset)\n",
    "    size = 0\n",
    "    num_batches = len(dataloader)\n",
    "    test_loss, correct = 0, 0\n",
    "\n",
    "    with torch.no_grad():\n",
    "        for X, y in dataloader:\n",
    "            pred = model(X)\n",
    "            test_loss += loss_fn(pred, y).item()\n",
    "            \n",
    "            for idx in range(pred.shape[0]):\n",
    "                if abs(pred[idx][0])>20:\n",
    "                    size +=1\n",
    "                    if(pred[idx][0]+accuracy>=y[idx][0] and pred[idx][0]-accuracy<=y[idx][0]):\n",
    "                        correct += 1\n",
    "\n",
    "    test_loss /= num_batches\n",
    "    correct /= size\n",
    "    if log:\n",
    "        print(f\"Test Error: \\n Accuracy: {(100*correct):>0.1f}%, Avg loss: {test_loss:>8f} \\n\")"
   ]
  },
  {
   "cell_type": "code",
   "execution_count": 303,
   "id": "6440daf9-c889-442d-a455-9cc227a6a926",
   "metadata": {},
   "outputs": [
    {
     "name": "stdout",
     "output_type": "stream",
     "text": [
      "Epoch 50\n",
      "-------------------------------\n",
      "loss: 12.451609  [   10/ 1442]\n",
      "loss: 11.754816  [ 1010/ 1442]\n",
      "Test Error: \n",
      " Accuracy: 62.1%, Avg loss: 26.461616 \n",
      "\n",
      "Epoch 100\n",
      "-------------------------------\n",
      "loss: 11.075463  [   10/ 1442]\n",
      "loss: 3.369316  [ 1010/ 1442]\n",
      "Test Error: \n",
      " Accuracy: 75.3%, Avg loss: 17.107868 \n",
      "\n",
      "Epoch 150\n",
      "-------------------------------\n",
      "loss: 6.912776  [   10/ 1442]\n",
      "loss: 8.918844  [ 1010/ 1442]\n",
      "Test Error: \n",
      " Accuracy: 67.5%, Avg loss: 21.605891 \n",
      "\n",
      "Epoch 200\n",
      "-------------------------------\n",
      "loss: 13.351534  [   10/ 1442]\n",
      "loss: 16.099594  [ 1010/ 1442]\n",
      "Test Error: \n",
      " Accuracy: 62.0%, Avg loss: 22.189925 \n",
      "\n",
      "Epoch 250\n",
      "-------------------------------\n",
      "loss: 38.151634  [   10/ 1442]\n",
      "loss: 6.698040  [ 1010/ 1442]\n",
      "Test Error: \n",
      " Accuracy: 60.1%, Avg loss: 32.036996 \n",
      "\n",
      "Epoch 300\n",
      "-------------------------------\n",
      "loss: 39.153084  [   10/ 1442]\n",
      "loss: 13.483869  [ 1010/ 1442]\n",
      "Test Error: \n",
      " Accuracy: 69.9%, Avg loss: 19.398724 \n",
      "\n",
      "Epoch 350\n",
      "-------------------------------\n",
      "loss: 13.852101  [   10/ 1442]\n",
      "loss: 2.125023  [ 1010/ 1442]\n",
      "Test Error: \n",
      " Accuracy: 71.5%, Avg loss: 20.034448 \n",
      "\n",
      "Epoch 400\n",
      "-------------------------------\n",
      "loss: 25.561056  [   10/ 1442]\n",
      "loss: 47.503094  [ 1010/ 1442]\n",
      "Test Error: \n",
      " Accuracy: 51.6%, Avg loss: 36.585384 \n",
      "\n",
      "Epoch 450\n",
      "-------------------------------\n",
      "loss: 26.240585  [   10/ 1442]\n",
      "loss: 12.562963  [ 1010/ 1442]\n",
      "Test Error: \n",
      " Accuracy: 64.9%, Avg loss: 26.042649 \n",
      "\n",
      "Epoch 500\n",
      "-------------------------------\n",
      "loss: 39.778084  [   10/ 1442]\n",
      "loss: 32.384605  [ 1010/ 1442]\n",
      "Test Error: \n",
      " Accuracy: 64.6%, Avg loss: 27.368662 \n",
      "\n",
      "Done!\n"
     ]
    }
   ],
   "source": [
    "loss_fn = nn.MSELoss()\n",
    "optimizer = torch.optim.Adam(model.parameters(), lr=learning_rate)\n",
    "\n",
    "epochs = 500\n",
    "for t in range(epochs):\n",
    "    log = False\n",
    "    if (t+1)%50==0:\n",
    "        log = True\n",
    "        print(f\"Epoch {t+1}\\n-------------------------------\")\n",
    "    train_loop(train_dataloader, model, loss_fn, optimizer, log)\n",
    "    test_loop(test_dataloader, model, loss_fn, 3, log)\n",
    "print(\"Done!\")"
   ]
  },
  {
   "cell_type": "code",
   "execution_count": 305,
   "id": "60726ca9-8a1d-4544-a275-b7d4a10088fc",
   "metadata": {},
   "outputs": [],
   "source": [
    "torch.save(model, \"model 51 20\")"
   ]
  },
  {
   "cell_type": "code",
   "execution_count": 306,
   "id": "16346a49-1c1b-4f49-8b25-64331d692905",
   "metadata": {},
   "outputs": [
    {
     "data": {
      "text/plain": [
       "NeuralNetwork(\n",
       "  (flatten): Flatten(start_dim=1, end_dim=-1)\n",
       "  (linear_relu_stack): Sequential(\n",
       "    (0): Linear(in_features=100, out_features=50, bias=True)\n",
       "    (1): ReLU()\n",
       "    (2): Linear(in_features=50, out_features=50, bias=True)\n",
       "    (3): ReLU()\n",
       "    (4): Linear(in_features=50, out_features=1, bias=True)\n",
       "  )\n",
       ")"
      ]
     },
     "execution_count": 306,
     "metadata": {},
     "output_type": "execute_result"
    }
   ],
   "source": [
    "torch.load(\"model 51 20\")"
   ]
  },
  {
   "cell_type": "code",
   "execution_count": null,
   "id": "da179e93-5075-440c-97d2-880e441cf729",
   "metadata": {},
   "outputs": [],
   "source": []
  }
 ],
 "metadata": {
  "kernelspec": {
   "display_name": "Python 3 (ipykernel)",
   "language": "python",
   "name": "python3"
  },
  "language_info": {
   "codemirror_mode": {
    "name": "ipython",
    "version": 3
   },
   "file_extension": ".py",
   "mimetype": "text/x-python",
   "name": "python",
   "nbconvert_exporter": "python",
   "pygments_lexer": "ipython3",
   "version": "3.9.13"
  }
 },
 "nbformat": 4,
 "nbformat_minor": 5
}
