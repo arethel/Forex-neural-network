{
 "cells": [
  {
   "cell_type": "code",
   "execution_count": 1,
   "id": "728c54be-acef-47f2-bde3-3b4885fbdbbe",
   "metadata": {
    "tags": []
   },
   "outputs": [],
   "source": [
    "import numpy as np\n",
    "import torch\n",
    "import pandas as pd\n",
    "from torch import nn\n",
    "from torch.utils.data import Dataset, DataLoader"
   ]
  },
  {
   "cell_type": "code",
   "execution_count": 227,
   "id": "9870a879-db58-4744-9dbb-c7fbbd2c0e16",
   "metadata": {
    "tags": []
   },
   "outputs": [],
   "source": [
    "class CustomDataset(Dataset):\n",
    "    def __init__(self, filename, analyze_ticks, result_ticks, start_ticks, end_ticks, viborka):\n",
    "        self.data_path = filename\n",
    "        self.data = []\n",
    "        df = pd.read_csv(self.data_path, encoding='utf-16', delimiter=\";\", header=None)\n",
    "        ticksArray = np.array(df.values)\n",
    "        if end_ticks>ticksArray.shape[0]:\n",
    "            end_ticks=ticksArray.shape[0]\n",
    "        if start_ticks>ticksArray.shape[0]:\n",
    "            start_ticks=0\n",
    "        # max_sum = 0;\n",
    "        \n",
    "        for idx in np.arange(analyze_ticks-1+start_ticks, end_ticks-result_ticks-1):\n",
    "            \n",
    "            analyze_set = np.array([])\n",
    "            for i in np.arange(analyze_ticks-1, 0, -1):\n",
    "                analyze_set = np.append(analyze_set, ticksArray[idx-i], 0)\n",
    "            result_sum = 0\n",
    "            for i in np.arange(result_ticks):\n",
    "                result_sum+=ticksArray[idx+i+1][0]\n",
    "            \n",
    "            if(abs(result_sum)>viborka):\n",
    "                if result_sum>0:\n",
    "                    result_sum=[0,0,1]\n",
    "                else:\n",
    "                    result_sum=[1,0,0]\n",
    "            else:\n",
    "                result_sum = [0,1,0]\n",
    "            \n",
    "            # if abs(result_sum)>max_sum:\n",
    "            #     max_sum=abs(result_sum)\n",
    "            \n",
    "            # if(abs(result_sum)>1000):\n",
    "            #     self.data.append([analyze_set, result_sum])\n",
    "            # elif np.random.rand()<viborka:\n",
    "            #     self.data.append([analyze_set, result_sum])\n",
    "            self.data.append([analyze_set, result_sum])\n",
    "            \n",
    "        # print(max_sum)\n",
    "    def __len__(self):\n",
    "        return len(self.data)\n",
    "    def __getitem__(self, idx):\n",
    "        analyze_set, result_sum = self.data[idx]\n",
    "        analyze_tensor = torch.from_numpy(analyze_set).to(torch.float32)\n",
    "        result_tensor = torch.tensor(result_sum).to(torch.float32)\n",
    "        return analyze_tensor, result_tensor"
   ]
  },
  {
   "cell_type": "code",
   "execution_count": 29,
   "id": "fba3e3ea-7544-45fb-b4dd-3823732da4eb",
   "metadata": {
    "tags": []
   },
   "outputs": [],
   "source": [
    "dataset_train = CustomDataset(241,20,0,8000, 1000)\n",
    "dataset_test = CustomDataset(241,20,8000, 10000, 1000)\n",
    "\n",
    "batch_size0 = 100\n",
    "\n",
    "train_dataloader = DataLoader(dataset_train, batch_size=batch_size0, shuffle=True)\n",
    "test_dataloader = DataLoader(dataset_test, batch_size=batch_size0, shuffle=True)\n"
   ]
  },
  {
   "cell_type": "code",
   "execution_count": 213,
   "id": "1e82a98b-ede3-4b6d-b49d-ef88ebca612f",
   "metadata": {
    "tags": []
   },
   "outputs": [],
   "source": [
    "class NeuralNetwork(nn.Module):\n",
    "    def __init__(self):\n",
    "        super().__init__()\n",
    "        self.flatten = nn.Flatten()\n",
    "        self.linear_relu_stack = nn.Sequential(\n",
    "            nn.Linear(240, 20),\n",
    "            nn.ReLU(),\n",
    "            nn.Dropout(0.2),\n",
    "            nn.Linear(20, 10),\n",
    "            nn.ReLU(),\n",
    "            nn.Dropout(0.1),\n",
    "            nn.Linear(10, 3),\n",
    "        )\n",
    "        # print(self.linear_relu_stack[0].weight.dtype)\n",
    "\n",
    "    def forward(self, x):\n",
    "        x = self.flatten(x)\n",
    "        logits = self.linear_relu_stack(x)\n",
    "        return logits"
   ]
  },
  {
   "cell_type": "code",
   "execution_count": 214,
   "id": "385794db-4d59-4a3a-8c8f-81a6189cc2a8",
   "metadata": {},
   "outputs": [
    {
     "name": "stdout",
     "output_type": "stream",
     "text": [
      "NeuralNetwork(\n",
      "  (flatten): Flatten(start_dim=1, end_dim=-1)\n",
      "  (linear_relu_stack): Sequential(\n",
      "    (0): Linear(in_features=240, out_features=20, bias=True)\n",
      "    (1): ReLU()\n",
      "    (2): Dropout(p=0.2, inplace=False)\n",
      "    (3): Linear(in_features=20, out_features=10, bias=True)\n",
      "    (4): ReLU()\n",
      "    (5): Dropout(p=0.1, inplace=False)\n",
      "    (6): Linear(in_features=10, out_features=3, bias=True)\n",
      "  )\n",
      ")\n"
     ]
    }
   ],
   "source": [
    "model = NeuralNetwork()\n",
    "print(model)"
   ]
  },
  {
   "cell_type": "code",
   "execution_count": 215,
   "id": "da0669d2-af1f-4417-99d2-52ee115c789b",
   "metadata": {
    "tags": []
   },
   "outputs": [],
   "source": [
    "learning_rate = 1e-3\n"
   ]
  },
  {
   "cell_type": "code",
   "execution_count": 236,
   "id": "d5f4b72a-7d21-4d53-a8b7-bc47dbfffa57",
   "metadata": {
    "tags": []
   },
   "outputs": [],
   "source": [
    "def train_loop(dataloader, model, loss_fn, optimizer, log):\n",
    "    size = len(dataloader.dataset)\n",
    "    one_time = True\n",
    "    for batch, (X, y) in enumerate(dataloader):\n",
    "        \n",
    "        # Compute prediction and loss\n",
    "        pred = model(X)\n",
    "        \n",
    "        if one_time:\n",
    "            one_time= False\n",
    "            # print(pred)\n",
    "        loss = loss_fn(pred, y)\n",
    "\n",
    "        # Backpropagation\n",
    "        optimizer.zero_grad()\n",
    "        loss.backward()\n",
    "        optimizer.step()\n",
    "\n",
    "        if batch % 30 == 0 and log:\n",
    "            loss, current = loss.item(), (batch + 1) * len(X)\n",
    "            print(f\"loss: {loss:>7f}  [{current:>5d}/{size:>5d}]\")\n",
    "\n",
    "\n",
    "def test_loop(dataloader, model, loss_fn, log):\n",
    "    # size = len(dataloader.dataset)\n",
    "    size = 0\n",
    "    num_batches = len(dataloader)\n",
    "    test_loss, correct = 0, 0\n",
    "\n",
    "    with torch.no_grad():\n",
    "        for X, y in dataloader:\n",
    "            pred = model(X)\n",
    "            test_loss += loss_fn(pred, y).item()\n",
    "            for idx in np.arange(y.shape[0]):\n",
    "                if(pred[idx].argmax()!=1):\n",
    "                    size+=1\n",
    "                    # if(pred[idx].argmax() == y[idx].argmax()):\n",
    "                    if(y[idx].argmax()!=1):\n",
    "                        correct += 1\n",
    "\n",
    "    test_loss /= num_batches\n",
    "    correct /= size\n",
    "    if log:\n",
    "        print(f\"Test Error: \\n Accuracy: {(100*correct):>0.1f}%, Avg loss: {test_loss:>8f} \\n\")"
   ]
  },
  {
   "cell_type": "code",
   "execution_count": 217,
   "id": "d6691c7b-e5ed-4347-b925-e2bacc145bcd",
   "metadata": {
    "tags": []
   },
   "outputs": [],
   "source": [
    "# loss_fn = nn.MSELoss()\n",
    "loss_fn = nn.CrossEntropyLoss()\n",
    "optimizer = torch.optim.SGD(model.parameters(), lr=learning_rate)\n",
    "# optimizer = torch.optim.Adam(model.parameters(), lr=learning_rate)"
   ]
  },
  {
   "cell_type": "code",
   "execution_count": 224,
   "id": "6440daf9-c889-442d-a455-9cc227a6a926",
   "metadata": {
    "tags": []
   },
   "outputs": [
    {
     "name": "stdout",
     "output_type": "stream",
     "text": [
      "Epoch 1\n",
      "-------------------------------\n",
      "loss: 0.677020  [  100/ 7739]\n",
      "loss: 0.803435  [ 3100/ 7739]\n",
      "loss: 0.761472  [ 6100/ 7739]\n",
      "Test Error: \n",
      " Accuracy: 57.2%, Avg loss: 1.324360 \n",
      "\n",
      "Done!\n"
     ]
    }
   ],
   "source": [
    "\n",
    "\n",
    "epochs = 1\n",
    "for t in range(epochs):\n",
    "    log = False\n",
    "    if (t+1)%1==0:\n",
    "        log = True\n",
    "        print(f\"Epoch {t+1}\\n-------------------------------\")\n",
    "    train_loop(train_dataloader, model, loss_fn, optimizer, log)\n",
    "    test_loop(test_dataloader, model, loss_fn, log)\n",
    "print(\"Done!\")"
   ]
  },
  {
   "cell_type": "code",
   "execution_count": 226,
   "id": "b2e235f4-fedc-464a-b0b6-6cf0225074cf",
   "metadata": {},
   "outputs": [
    {
     "name": "stdout",
     "output_type": "stream",
     "text": [
      "Test Error: \n",
      " Accuracy: 57.2%, Avg loss: 1.368079 \n",
      "\n"
     ]
    }
   ],
   "source": [
    "test_loop(test_dataloader, model, loss_fn, True)"
   ]
  },
  {
   "cell_type": "code",
   "execution_count": 237,
   "id": "c90bc887-adb9-4a45-9524-826aacc6b1d6",
   "metadata": {},
   "outputs": [
    {
     "name": "stdout",
     "output_type": "stream",
     "text": [
      "Test Error: \n",
      " Accuracy: 83.3%, Avg loss: 1.302250 \n",
      "\n",
      "Test Error: \n",
      " Accuracy: 82.0%, Avg loss: 1.319752 \n",
      "\n",
      "Test Error: \n",
      " Accuracy: 76.2%, Avg loss: 1.214361 \n",
      "\n",
      "Test Error: \n",
      " Accuracy: 75.2%, Avg loss: 1.201470 \n",
      "\n",
      "Test Error: \n",
      " Accuracy: 72.9%, Avg loss: 1.150988 \n",
      "\n",
      "Test Error: \n",
      " Accuracy: 81.3%, Avg loss: 0.784811 \n",
      "\n",
      "Test Error: \n",
      " Accuracy: 87.8%, Avg loss: 0.676297 \n",
      "\n",
      "Test Error: \n",
      " Accuracy: 91.2%, Avg loss: 0.682871 \n",
      "\n",
      "Test Error: \n",
      " Accuracy: 90.5%, Avg loss: 0.632325 \n",
      "\n",
      "Test Error: \n",
      " Accuracy: 78.3%, Avg loss: 1.365291 \n",
      "\n"
     ]
    }
   ],
   "source": [
    "for i in range(10):\n",
    "    dataset_test = CustomDataset(\"testingData 20000.csv\", 241, 20, i*2000, (i+1)*2000, 1000)\n",
    "\n",
    "    batch_size0 = 100\n",
    "\n",
    "    test_dataloader = DataLoader(dataset_test, batch_size=batch_size0, shuffle=True)\n",
    "    test_loop(test_dataloader, model, loss_fn, True)"
   ]
  },
  {
   "cell_type": "code",
   "execution_count": 231,
   "id": "ba115958-d36f-4eaa-99d6-948f6e5ff869",
   "metadata": {},
   "outputs": [
    {
     "name": "stdout",
     "output_type": "stream",
     "text": [
      "Test Error: \n",
      " Accuracy: 72.8%, Avg loss: 0.828556 \n",
      "\n"
     ]
    }
   ],
   "source": []
  },
  {
   "cell_type": "code",
   "execution_count": 225,
   "id": "60726ca9-8a1d-4544-a275-b7d4a10088fc",
   "metadata": {
    "tags": []
   },
   "outputs": [],
   "source": [
    "torch.save(model, \"model 241 20 v1 H1 10000 win57.pth\")"
   ]
  },
  {
   "cell_type": "code",
   "execution_count": null,
   "id": "692f960c-072f-47c2-9bdb-fb6f7c677feb",
   "metadata": {},
   "outputs": [],
   "source": [
    "model = torch.load(\"model 51 20 v3 perc6.pth\")"
   ]
  },
  {
   "cell_type": "code",
   "execution_count": 14,
   "id": "da179e93-5075-440c-97d2-880e441cf729",
   "metadata": {
    "tags": []
   },
   "outputs": [
    {
     "name": "stdout",
     "output_type": "stream",
     "text": [
      "Epoch 1\n",
      "-------------------------------\n",
      "Test Error: \n",
      " Accuracy: 2.0%, Avg loss: 2344.025424 \n",
      "\n",
      "Epoch 2\n",
      "-------------------------------\n",
      "Test Error: \n",
      " Accuracy: 2.0%, Avg loss: 2341.977581 \n",
      "\n",
      "Epoch 3\n",
      "-------------------------------\n",
      "Test Error: \n",
      " Accuracy: 2.0%, Avg loss: 2342.015881 \n",
      "\n",
      "Epoch 4\n",
      "-------------------------------\n",
      "Test Error: \n",
      " Accuracy: 2.0%, Avg loss: 2341.980488 \n",
      "\n",
      "Epoch 5\n",
      "-------------------------------\n",
      "Test Error: \n",
      " Accuracy: 2.0%, Avg loss: 2342.068672 \n",
      "\n",
      "Epoch 6\n",
      "-------------------------------\n",
      "Test Error: \n",
      " Accuracy: 2.0%, Avg loss: 2341.973897 \n",
      "\n",
      "Epoch 7\n",
      "-------------------------------\n",
      "Test Error: \n",
      " Accuracy: 2.0%, Avg loss: 2341.983285 \n",
      "\n",
      "Epoch 8\n",
      "-------------------------------\n",
      "Test Error: \n",
      " Accuracy: 2.0%, Avg loss: 2342.107387 \n",
      "\n",
      "Epoch 9\n",
      "-------------------------------\n",
      "Test Error: \n",
      " Accuracy: 2.0%, Avg loss: 2341.960891 \n",
      "\n",
      "Epoch 10\n",
      "-------------------------------\n",
      "Test Error: \n",
      " Accuracy: 2.0%, Avg loss: 2341.968734 \n",
      "\n"
     ]
    }
   ],
   "source": [
    "epochs=10\n",
    "for t in range(epochs):\n",
    "    print(f\"Epoch {t+1}\\n-------------------------------\")\n",
    "    test_loop(test_dataloader, model, loss_fn, 3, True)"
   ]
  },
  {
   "cell_type": "code",
   "execution_count": null,
   "id": "8e915e09-4970-4c7f-89ce-5247dbff46a8",
   "metadata": {},
   "outputs": [],
   "source": []
  }
 ],
 "metadata": {
  "kernelspec": {
   "display_name": "Python 3 (ipykernel)",
   "language": "python",
   "name": "python3"
  },
  "language_info": {
   "codemirror_mode": {
    "name": "ipython",
    "version": 3
   },
   "file_extension": ".py",
   "mimetype": "text/x-python",
   "name": "python",
   "nbconvert_exporter": "python",
   "pygments_lexer": "ipython3",
   "version": "3.9.13"
  }
 },
 "nbformat": 4,
 "nbformat_minor": 5
}
