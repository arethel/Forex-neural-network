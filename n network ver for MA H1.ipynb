{
 "cells": [
  {
   "cell_type": "code",
   "execution_count": 308,
   "id": "728c54be-acef-47f2-bde3-3b4885fbdbbe",
   "metadata": {
    "tags": []
   },
   "outputs": [],
   "source": [
    "import numpy as np\n",
    "import torch\n",
    "import pandas as pd\n",
    "from torch import nn\n",
    "from torch.utils.data import Dataset, DataLoader"
   ]
  },
  {
   "cell_type": "code",
   "execution_count": 456,
   "id": "9870a879-db58-4744-9dbb-c7fbbd2c0e16",
   "metadata": {
    "tags": []
   },
   "outputs": [],
   "source": [
    "class CustomDataset(Dataset):\n",
    "    def __init__(self, analyze_ticks, result_ticks, start_ticks, end_ticks, viborka):\n",
    "        self.data_path = \"testingData.csv\"\n",
    "        self.data = []\n",
    "        df = pd.read_csv(self.data_path, encoding='utf-16', delimiter=\";\", header=None)\n",
    "        ticksArray = np.array(df.values)\n",
    "        if end_ticks>ticksArray.shape[0]:\n",
    "            end_ticks=ticksArray.shape[0]\n",
    "        if start_ticks>ticksArray.shape[0]:\n",
    "            start_ticks=0\n",
    "        # max_sum = 0;\n",
    "        \n",
    "        for idx in np.arange(analyze_ticks-1+start_ticks, end_ticks-result_ticks-1):\n",
    "            \n",
    "            analyze_set = np.array([])\n",
    "            for i in np.arange(analyze_ticks-1, 0, -1):\n",
    "                analyze_set = np.append(analyze_set, ticksArray[idx-i], 0)\n",
    "            result_sum = 0\n",
    "            for i in np.arange(result_ticks):\n",
    "                result_sum+=ticksArray[idx+i+1][1]\n",
    "            # if abs(result_sum)>max_sum:\n",
    "            #     max_sum=abs(result_sum)\n",
    "            \n",
    "            if(abs(result_sum)>20):\n",
    "                self.data.append([analyze_set, result_sum])\n",
    "            elif np.random.rand()<viborka:\n",
    "                self.data.append([analyze_set, result_sum])\n",
    "            # self.data.append([analyze_set, result_sum])\n",
    "            \n",
    "        # print(max_sum)\n",
    "    def __len__(self):\n",
    "        return len(self.data)\n",
    "    def __getitem__(self, idx):\n",
    "        analyze_set, result_sum = self.data[idx]\n",
    "        analyze_tensor = torch.from_numpy(analyze_set).to(torch.float32)\n",
    "        result_tensor = torch.tensor([result_sum]).to(torch.float32)\n",
    "        return analyze_tensor, result_tensor"
   ]
  },
  {
   "cell_type": "code",
   "execution_count": 486,
   "id": "fba3e3ea-7544-45fb-b4dd-3823732da4eb",
   "metadata": {
    "tags": []
   },
   "outputs": [],
   "source": [
    "dataset_train = CustomDataset(51,20,0,50000, 0.1)\n",
    "dataset_test = CustomDataset(51,20,50000, 60000, 0.1)\n",
    "\n",
    "batch_size0 = 100\n",
    "\n",
    "train_dataloader = DataLoader(dataset_train, batch_size=batch_size0, shuffle=True)\n",
    "test_dataloader = DataLoader(dataset_test, batch_size=batch_size0, shuffle=True)\n"
   ]
  },
  {
   "cell_type": "code",
   "execution_count": 479,
   "id": "1e82a98b-ede3-4b6d-b49d-ef88ebca612f",
   "metadata": {
    "tags": []
   },
   "outputs": [],
   "source": [
    "class NeuralNetwork(nn.Module):\n",
    "    def __init__(self):\n",
    "        super().__init__()\n",
    "        self.flatten = nn.Flatten()\n",
    "        self.linear_relu_stack = nn.Sequential(\n",
    "            nn.Linear(100, 30),\n",
    "            nn.ReLU(),\n",
    "            nn.Linear(30, 15),\n",
    "            nn.ReLU(),\n",
    "            nn.Linear(15, 10),\n",
    "            nn.ReLU(),\n",
    "            nn.Linear(10, 1),\n",
    "        )\n",
    "        # print(self.linear_relu_stack[0].weight.dtype)\n",
    "\n",
    "    def forward(self, x):\n",
    "        x = self.flatten(x)\n",
    "        logits = self.linear_relu_stack(x)\n",
    "        return logits"
   ]
  },
  {
   "cell_type": "code",
   "execution_count": 480,
   "id": "385794db-4d59-4a3a-8c8f-81a6189cc2a8",
   "metadata": {},
   "outputs": [
    {
     "name": "stdout",
     "output_type": "stream",
     "text": [
      "NeuralNetwork(\n",
      "  (flatten): Flatten(start_dim=1, end_dim=-1)\n",
      "  (linear_relu_stack): Sequential(\n",
      "    (0): Linear(in_features=100, out_features=30, bias=True)\n",
      "    (1): ReLU()\n",
      "    (2): Linear(in_features=30, out_features=15, bias=True)\n",
      "    (3): ReLU()\n",
      "    (4): Linear(in_features=15, out_features=10, bias=True)\n",
      "    (5): ReLU()\n",
      "    (6): Linear(in_features=10, out_features=1, bias=True)\n",
      "  )\n",
      ")\n"
     ]
    }
   ],
   "source": [
    "model = NeuralNetwork()\n",
    "print(model)"
   ]
  },
  {
   "cell_type": "code",
   "execution_count": 481,
   "id": "da0669d2-af1f-4417-99d2-52ee115c789b",
   "metadata": {
    "tags": []
   },
   "outputs": [],
   "source": [
    "learning_rate = 1e-6\n"
   ]
  },
  {
   "cell_type": "code",
   "execution_count": 482,
   "id": "d5f4b72a-7d21-4d53-a8b7-bc47dbfffa57",
   "metadata": {
    "tags": []
   },
   "outputs": [],
   "source": [
    "def train_loop(dataloader, model, loss_fn, optimizer, log):\n",
    "    size = len(dataloader.dataset)\n",
    "    one_time = True\n",
    "    for batch, (X, y) in enumerate(dataloader):\n",
    "        \n",
    "        # Compute prediction and loss\n",
    "        pred = model(X)\n",
    "        if one_time:\n",
    "            one_time= False\n",
    "            # print(pred)\n",
    "        loss = loss_fn(pred, y)\n",
    "\n",
    "        # Backpropagation\n",
    "        optimizer.zero_grad()\n",
    "        loss.backward()\n",
    "        optimizer.step()\n",
    "\n",
    "        if batch % 30 == 0 and log:\n",
    "            loss, current = loss.item(), (batch + 1) * len(X)\n",
    "            print(f\"loss: {loss:>7f}  [{current:>5d}/{size:>5d}]\")\n",
    "\n",
    "\n",
    "def test_loop(dataloader, model, loss_fn, min_step, accuracy, log):\n",
    "    # size = len(dataloader.dataset)\n",
    "    size = 0\n",
    "    size1 = 0\n",
    "    num_batches = len(dataloader)\n",
    "    test_loss, correct = 0, 0\n",
    "\n",
    "    with torch.no_grad():\n",
    "        for X, y in dataloader:\n",
    "            pred = model(X)\n",
    "            test_loss += loss_fn(pred, y).item()\n",
    "            \n",
    "            for idx in range(pred.shape[0]):\n",
    "                if abs(y[idx][0])>min_step:\n",
    "                    size1 +=1\n",
    "                if abs(pred[idx][0])>min_step:\n",
    "                    size +=1\n",
    "                    if(pred[idx][0]+accuracy>=y[idx][0] and pred[idx][0]-accuracy<=y[idx][0]):\n",
    "                        correct += 1\n",
    "    if size!=0 and num_batches!=0:\n",
    "        test_loss /= num_batches\n",
    "        correct /= size\n",
    "    if log:\n",
    "        print(f\"Test Error: \\n Accuracy: {(100*correct):>0.1f}%, Avg loss: {test_loss:>8f} \\n Size: {(size):>0.1f}, Size1: {(size1):>0.1f} \\n\")"
   ]
  },
  {
   "cell_type": "code",
   "execution_count": 483,
   "id": "d6691c7b-e5ed-4347-b925-e2bacc145bcd",
   "metadata": {
    "tags": []
   },
   "outputs": [],
   "source": [
    "loss_fn = nn.MSELoss()\n",
    "optimizer = torch.optim.Adam(model.parameters(), lr=learning_rate)"
   ]
  },
  {
   "cell_type": "code",
   "execution_count": 487,
   "id": "6440daf9-c889-442d-a455-9cc227a6a926",
   "metadata": {
    "tags": []
   },
   "outputs": [
    {
     "name": "stdout",
     "output_type": "stream",
     "text": [
      "Epoch 500\n",
      "-------------------------------\n",
      "loss: 269.044678  [  100/ 5455]\n",
      "loss: 178.163101  [ 3100/ 5455]\n",
      "Test Error: \n",
      " Accuracy: 0.0%, Avg loss: 252.408975 \n",
      " Size: 20.0, Size1: 247.0 \n",
      "\n",
      "Epoch 1000\n",
      "-------------------------------\n",
      "loss: 162.266617  [  100/ 5455]\n",
      "loss: 182.180740  [ 3100/ 5455]\n",
      "Test Error: \n",
      " Accuracy: 0.0%, Avg loss: 222.417175 \n",
      " Size: 12.0, Size1: 247.0 \n",
      "\n",
      "Epoch 1500\n",
      "-------------------------------\n",
      "loss: 144.290222  [  100/ 5455]\n",
      "loss: 116.188225  [ 3100/ 5455]\n",
      "Test Error: \n",
      " Accuracy: 0.0%, Avg loss: 219.295610 \n",
      " Size: 4.0, Size1: 247.0 \n",
      "\n",
      "Epoch 2000\n",
      "-------------------------------\n",
      "loss: 141.252975  [  100/ 5455]\n",
      "loss: 79.427910  [ 3100/ 5455]\n",
      "Test Error: \n",
      " Accuracy: 0.0%, Avg loss: 219.733035 \n",
      " Size: 4.0, Size1: 247.0 \n",
      "\n",
      "Epoch 2500\n",
      "-------------------------------\n",
      "loss: 84.482910  [  100/ 5455]\n",
      "loss: 74.571632  [ 3100/ 5455]\n",
      "Test Error: \n",
      " Accuracy: 0.0%, Avg loss: 216.844651 \n",
      " Size: 2.0, Size1: 247.0 \n",
      "\n"
     ]
    },
    {
     "ename": "KeyboardInterrupt",
     "evalue": "",
     "output_type": "error",
     "traceback": [
      "\u001b[0;31m---------------------------------------------------------------------------\u001b[0m",
      "\u001b[0;31mKeyboardInterrupt\u001b[0m                         Traceback (most recent call last)",
      "\u001b[0;32m/var/folders/k6/5n4dk3r13b96cp5lhfrwccm40000gn/T/ipykernel_8978/2986360933.py\u001b[0m in \u001b[0;36m<module>\u001b[0;34m\u001b[0m\n\u001b[1;32m      5\u001b[0m         \u001b[0mlog\u001b[0m \u001b[0;34m=\u001b[0m \u001b[0;32mTrue\u001b[0m\u001b[0;34m\u001b[0m\u001b[0;34m\u001b[0m\u001b[0m\n\u001b[1;32m      6\u001b[0m         \u001b[0mprint\u001b[0m\u001b[0;34m(\u001b[0m\u001b[0;34mf\"Epoch {t+1}\\n-------------------------------\"\u001b[0m\u001b[0;34m)\u001b[0m\u001b[0;34m\u001b[0m\u001b[0;34m\u001b[0m\u001b[0m\n\u001b[0;32m----> 7\u001b[0;31m     \u001b[0mtrain_loop\u001b[0m\u001b[0;34m(\u001b[0m\u001b[0mtrain_dataloader\u001b[0m\u001b[0;34m,\u001b[0m \u001b[0mmodel\u001b[0m\u001b[0;34m,\u001b[0m \u001b[0mloss_fn\u001b[0m\u001b[0;34m,\u001b[0m \u001b[0moptimizer\u001b[0m\u001b[0;34m,\u001b[0m \u001b[0mlog\u001b[0m\u001b[0;34m)\u001b[0m\u001b[0;34m\u001b[0m\u001b[0;34m\u001b[0m\u001b[0m\n\u001b[0m\u001b[1;32m      8\u001b[0m     \u001b[0mtest_loop\u001b[0m\u001b[0;34m(\u001b[0m\u001b[0mtest_dataloader\u001b[0m\u001b[0;34m,\u001b[0m \u001b[0mmodel\u001b[0m\u001b[0;34m,\u001b[0m \u001b[0mloss_fn\u001b[0m\u001b[0;34m,\u001b[0m \u001b[0;36m20\u001b[0m\u001b[0;34m,\u001b[0m \u001b[0;36m7\u001b[0m\u001b[0;34m,\u001b[0m \u001b[0mlog\u001b[0m\u001b[0;34m)\u001b[0m\u001b[0;34m\u001b[0m\u001b[0;34m\u001b[0m\u001b[0m\n\u001b[1;32m      9\u001b[0m \u001b[0mprint\u001b[0m\u001b[0;34m(\u001b[0m\u001b[0;34m\"Done!\"\u001b[0m\u001b[0;34m)\u001b[0m\u001b[0;34m\u001b[0m\u001b[0;34m\u001b[0m\u001b[0m\n",
      "\u001b[0;32m/var/folders/k6/5n4dk3r13b96cp5lhfrwccm40000gn/T/ipykernel_8978/678373713.py\u001b[0m in \u001b[0;36mtrain_loop\u001b[0;34m(dataloader, model, loss_fn, optimizer, log)\u001b[0m\n\u001b[1;32m      2\u001b[0m     \u001b[0msize\u001b[0m \u001b[0;34m=\u001b[0m \u001b[0mlen\u001b[0m\u001b[0;34m(\u001b[0m\u001b[0mdataloader\u001b[0m\u001b[0;34m.\u001b[0m\u001b[0mdataset\u001b[0m\u001b[0;34m)\u001b[0m\u001b[0;34m\u001b[0m\u001b[0;34m\u001b[0m\u001b[0m\n\u001b[1;32m      3\u001b[0m     \u001b[0mone_time\u001b[0m \u001b[0;34m=\u001b[0m \u001b[0;32mTrue\u001b[0m\u001b[0;34m\u001b[0m\u001b[0;34m\u001b[0m\u001b[0m\n\u001b[0;32m----> 4\u001b[0;31m     \u001b[0;32mfor\u001b[0m \u001b[0mbatch\u001b[0m\u001b[0;34m,\u001b[0m \u001b[0;34m(\u001b[0m\u001b[0mX\u001b[0m\u001b[0;34m,\u001b[0m \u001b[0my\u001b[0m\u001b[0;34m)\u001b[0m \u001b[0;32min\u001b[0m \u001b[0menumerate\u001b[0m\u001b[0;34m(\u001b[0m\u001b[0mdataloader\u001b[0m\u001b[0;34m)\u001b[0m\u001b[0;34m:\u001b[0m\u001b[0;34m\u001b[0m\u001b[0;34m\u001b[0m\u001b[0m\n\u001b[0m\u001b[1;32m      5\u001b[0m \u001b[0;34m\u001b[0m\u001b[0m\n\u001b[1;32m      6\u001b[0m         \u001b[0;31m# Compute prediction and loss\u001b[0m\u001b[0;34m\u001b[0m\u001b[0;34m\u001b[0m\u001b[0m\n",
      "\u001b[0;32m/opt/anaconda3/lib/python3.9/site-packages/torch/utils/data/dataloader.py\u001b[0m in \u001b[0;36m__next__\u001b[0;34m(self)\u001b[0m\n\u001b[1;32m    646\u001b[0m                                  \"https://pytorch.org/docs/stable/data.html#torch.utils.data.IterableDataset for examples.\")\n\u001b[1;32m    647\u001b[0m                 \u001b[0mwarnings\u001b[0m\u001b[0;34m.\u001b[0m\u001b[0mwarn\u001b[0m\u001b[0;34m(\u001b[0m\u001b[0mwarn_msg\u001b[0m\u001b[0;34m)\u001b[0m\u001b[0;34m\u001b[0m\u001b[0;34m\u001b[0m\u001b[0m\n\u001b[0;32m--> 648\u001b[0;31m             \u001b[0;32mreturn\u001b[0m \u001b[0mdata\u001b[0m\u001b[0;34m\u001b[0m\u001b[0;34m\u001b[0m\u001b[0m\n\u001b[0m\u001b[1;32m    649\u001b[0m \u001b[0;34m\u001b[0m\u001b[0m\n\u001b[1;32m    650\u001b[0m     \u001b[0;32mdef\u001b[0m \u001b[0m__len__\u001b[0m\u001b[0;34m(\u001b[0m\u001b[0mself\u001b[0m\u001b[0;34m)\u001b[0m \u001b[0;34m->\u001b[0m \u001b[0mint\u001b[0m\u001b[0;34m:\u001b[0m\u001b[0;34m\u001b[0m\u001b[0;34m\u001b[0m\u001b[0m\n",
      "\u001b[0;32m/opt/anaconda3/lib/python3.9/site-packages/torch/autograd/profiler.py\u001b[0m in \u001b[0;36m__exit__\u001b[0;34m(self, exc_type, exc_value, traceback)\u001b[0m\n\u001b[1;32m    501\u001b[0m         \u001b[0;31m# TODO: Too slow with __torch_function__ handling enabled\u001b[0m\u001b[0;34m\u001b[0m\u001b[0;34m\u001b[0m\u001b[0m\n\u001b[1;32m    502\u001b[0m         \u001b[0;31m# See https://github.com/pytorch/pytorch/issues/76410\u001b[0m\u001b[0;34m\u001b[0m\u001b[0;34m\u001b[0m\u001b[0m\n\u001b[0;32m--> 503\u001b[0;31m         \u001b[0;32mif\u001b[0m \u001b[0;32mnot\u001b[0m \u001b[0mtorch\u001b[0m\u001b[0;34m.\u001b[0m\u001b[0mjit\u001b[0m\u001b[0;34m.\u001b[0m\u001b[0mis_scripting\u001b[0m\u001b[0;34m(\u001b[0m\u001b[0;34m)\u001b[0m\u001b[0;34m:\u001b[0m\u001b[0;34m\u001b[0m\u001b[0;34m\u001b[0m\u001b[0m\n\u001b[0m\u001b[1;32m    504\u001b[0m             \u001b[0;32mwith\u001b[0m \u001b[0mtorch\u001b[0m\u001b[0;34m.\u001b[0m\u001b[0m_C\u001b[0m\u001b[0;34m.\u001b[0m\u001b[0mDisableTorchFunction\u001b[0m\u001b[0;34m(\u001b[0m\u001b[0;34m)\u001b[0m\u001b[0;34m:\u001b[0m\u001b[0;34m\u001b[0m\u001b[0;34m\u001b[0m\u001b[0m\n\u001b[1;32m    505\u001b[0m                 \u001b[0mtorch\u001b[0m\u001b[0;34m.\u001b[0m\u001b[0mops\u001b[0m\u001b[0;34m.\u001b[0m\u001b[0mprofiler\u001b[0m\u001b[0;34m.\u001b[0m\u001b[0m_record_function_exit\u001b[0m\u001b[0;34m.\u001b[0m\u001b[0m_RecordFunction\u001b[0m\u001b[0;34m(\u001b[0m\u001b[0mrecord\u001b[0m\u001b[0;34m)\u001b[0m\u001b[0;34m\u001b[0m\u001b[0;34m\u001b[0m\u001b[0m\n",
      "\u001b[0;31mKeyboardInterrupt\u001b[0m: "
     ]
    }
   ],
   "source": [
    "\n",
    "\n",
    "epochs = 10000\n",
    "for t in range(epochs):\n",
    "    log = False\n",
    "    if (t+1)%500==0:\n",
    "        log = True\n",
    "        print(f\"Epoch {t+1}\\n-------------------------------\")\n",
    "    train_loop(train_dataloader, model, loss_fn, optimizer, log)\n",
    "    test_loop(test_dataloader, model, loss_fn, 20, 7, log)\n",
    "print(\"Done!\")"
   ]
  },
  {
   "cell_type": "code",
   "execution_count": 454,
   "id": "b2e235f4-fedc-464a-b0b6-6cf0225074cf",
   "metadata": {},
   "outputs": [
    {
     "name": "stdout",
     "output_type": "stream",
     "text": [
      "Test Error: \n",
      " Accuracy: 100.0%, Avg loss: 190.807506 \n",
      " Size: 1.0 \n",
      "\n"
     ]
    }
   ],
   "source": [
    "test_loop(test_dataloader, model, loss_fn, 6, log)"
   ]
  },
  {
   "cell_type": "code",
   "execution_count": 353,
   "id": "60726ca9-8a1d-4544-a275-b7d4a10088fc",
   "metadata": {
    "tags": []
   },
   "outputs": [],
   "source": [
    "torch.save(model, \"model 51 20 v1 perc50.pth\")"
   ]
  },
  {
   "cell_type": "code",
   "execution_count": null,
   "id": "692f960c-072f-47c2-9bdb-fb6f7c677feb",
   "metadata": {},
   "outputs": [],
   "source": [
    "model = torch.load(\"model 51 20 v3 perc6.pth\")"
   ]
  },
  {
   "cell_type": "code",
   "execution_count": 14,
   "id": "da179e93-5075-440c-97d2-880e441cf729",
   "metadata": {
    "tags": []
   },
   "outputs": [
    {
     "name": "stdout",
     "output_type": "stream",
     "text": [
      "Epoch 1\n",
      "-------------------------------\n",
      "Test Error: \n",
      " Accuracy: 2.0%, Avg loss: 2344.025424 \n",
      "\n",
      "Epoch 2\n",
      "-------------------------------\n",
      "Test Error: \n",
      " Accuracy: 2.0%, Avg loss: 2341.977581 \n",
      "\n",
      "Epoch 3\n",
      "-------------------------------\n",
      "Test Error: \n",
      " Accuracy: 2.0%, Avg loss: 2342.015881 \n",
      "\n",
      "Epoch 4\n",
      "-------------------------------\n",
      "Test Error: \n",
      " Accuracy: 2.0%, Avg loss: 2341.980488 \n",
      "\n",
      "Epoch 5\n",
      "-------------------------------\n",
      "Test Error: \n",
      " Accuracy: 2.0%, Avg loss: 2342.068672 \n",
      "\n",
      "Epoch 6\n",
      "-------------------------------\n",
      "Test Error: \n",
      " Accuracy: 2.0%, Avg loss: 2341.973897 \n",
      "\n",
      "Epoch 7\n",
      "-------------------------------\n",
      "Test Error: \n",
      " Accuracy: 2.0%, Avg loss: 2341.983285 \n",
      "\n",
      "Epoch 8\n",
      "-------------------------------\n",
      "Test Error: \n",
      " Accuracy: 2.0%, Avg loss: 2342.107387 \n",
      "\n",
      "Epoch 9\n",
      "-------------------------------\n",
      "Test Error: \n",
      " Accuracy: 2.0%, Avg loss: 2341.960891 \n",
      "\n",
      "Epoch 10\n",
      "-------------------------------\n",
      "Test Error: \n",
      " Accuracy: 2.0%, Avg loss: 2341.968734 \n",
      "\n"
     ]
    }
   ],
   "source": [
    "epochs=10\n",
    "for t in range(epochs):\n",
    "    print(f\"Epoch {t+1}\\n-------------------------------\")\n",
    "    test_loop(test_dataloader, model, loss_fn, 3, True)"
   ]
  },
  {
   "cell_type": "code",
   "execution_count": null,
   "id": "8e915e09-4970-4c7f-89ce-5247dbff46a8",
   "metadata": {},
   "outputs": [],
   "source": []
  }
 ],
 "metadata": {
  "kernelspec": {
   "display_name": "Python 3 (ipykernel)",
   "language": "python",
   "name": "python3"
  },
  "language_info": {
   "codemirror_mode": {
    "name": "ipython",
    "version": 3
   },
   "file_extension": ".py",
   "mimetype": "text/x-python",
   "name": "python",
   "nbconvert_exporter": "python",
   "pygments_lexer": "ipython3",
   "version": "3.9.13"
  }
 },
 "nbformat": 4,
 "nbformat_minor": 5
}
